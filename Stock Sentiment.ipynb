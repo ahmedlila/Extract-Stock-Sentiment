{
 "cells": [
  {
   "cell_type": "markdown",
   "metadata": {},
   "source": [
    "## 1. Searching for gold inside HTML files\n",
    "In this project, I'll try to make a <a href=\"https://en.wikipedia.org/wiki/Sentiment_analysis\"> <b> Sentiment Analysis</b></a> on financial news headlines from <a href=\"https://finviz.com\"><b>FINVIZ.com</b></a> through web scraping to know the emotion behind the headlines and predict if the market status is good or bad.</p>\n",
    "\n",
    "<b>Why headlines? And why from FINVIZ?</b>\n",
    "<li>Headlines, which have similar length, are easier to parse and group than full articles, which vary in length.</li>\n",
    "<li>FINVIZ has a list of trusted websites, and headlines from these sites tend to be more consistent in their jargon than those from independent bloggers. Consistent textual patterns will improve the sentiment analysis.</li>\n",
    "</ol>\n",
    "<p>As <a href=\"https://en.wikipedia.org/wiki/Web_scraping\"> <b> web scraping</b></a> requires data science ethics (sending a lot of traffic to a FINVIZ's servers isn't very nice), the HTML files for Facebook and Tesla at various points in time have been downloaded. Let's import these files into memory.</p>"
   ]
  },
  {
   "cell_type": "code",
   "execution_count": 115,
   "metadata": {},
   "outputs": [],
   "source": [
    "# Import libraries\n",
    "from bs4 import BeautifulSoup\n",
    "import pandas as pd\n",
    "import os\n",
    "\n",
    "html_tables = {}\n",
    "\n",
    "# Get the html file we need and make tables for particular class that contains important information\n",
    "for table_name in os.listdir('datasets'):\n",
    "    table_path = f'datasets/{table_name}'\n",
    "    table_file = open(table_path, \"r\")\n",
    "    html = BeautifulSoup(table_file)\n",
    "    html_table = html.find(id='news-table')\n",
    "    html_tables[table_name] = html_table\n"
   ]
  },
  {
   "cell_type": "markdown",
   "metadata": {},
   "source": [
    "## 2. What is inside those files anyway?\n",
    "<p>Understanding what's inside those tables by exploring them to parse them well."
   ]
  },
  {
   "cell_type": "code",
   "execution_count": 116,
   "metadata": {},
   "outputs": [],
   "source": [
    "# Open one table and get all tr tags \n",
    "tsla = html_tables['tsla_22sep.html']\n",
    "tsla_tr = tsla.findAll('tr') "
   ]
  },
  {
   "cell_type": "markdown",
   "metadata": {},
   "source": [
    "Difference between find_all and findAll in BeautifulSoup library,  <a href=\"https://stackoverflow.com/questions/12339323/difference-between-findall-and-find-all-in-beautifulsoup\"><b>Check This</b></a> "
   ]
  },
  {
   "cell_type": "code",
   "execution_count": 117,
   "metadata": {},
   "outputs": [
    {
     "name": "stdout",
     "output_type": "stream",
     "text": [
      "File number 1:\n",
      "Billionaire investor questions Elon Musk getting 'a pass' after bombshell tweets\n",
      "Sep-21-18 09:56PM  \n",
      "File number 2:\n",
      "Broadcoms Stock Looks Like a Winner\n",
      "09:30PM  \n",
      "File number 3:\n",
      "SHAREHOLDER ALERT:Â  Pomerantz Law Firm Reminds Shareholders with Losses on their Investment in Tesla, Inc. of Class Action Lawsuit and Upcoming Deadline  TSLA\n",
      "05:30PM  \n",
      "File number 4:\n",
      "Tesla's People Problem and the Inscrutable Musk: 2 Things That Make You Go Hmmm\n",
      "05:30PM  \n"
     ]
    }
   ],
   "source": [
    "#<tr> determines each row in tsla table\n",
    "# For each row, get all hyperlinks text from  anchor and each cell in HTML table\n",
    "for i, table_row in enumerate(tsla_tr):\n",
    "    link_text = table_row.a.get_text()\n",
    "    data_text = table_row.td.get_text()\n",
    "    # Print the count\n",
    "    print(f'File number {i+1}:')\n",
    "    print(link_text)\n",
    "    print(data_text)\n",
    "    # Avoiding spamming the notebook by taking first four loops\n",
    "    if i == 3:\n",
    "        break"
   ]
  },
  {
   "cell_type": "markdown",
   "metadata": {},
   "source": [
    "## 3. Extract the news headlines\n",
    "<p>Trying to parse the data in a well formated structure"
   ]
  },
  {
   "cell_type": "code",
   "execution_count": 118,
   "metadata": {},
   "outputs": [],
   "source": [
    "parsed_news = []\n",
    "\n",
    "for file_name, news_table in html_tables.items():\n",
    "    # Iterate through all tr tags in each table\n",
    "    for x in news_table.findAll('tr'):\n",
    "        text = x.get_text()\n",
    "        headline = x.a.get_text()\n",
    "        # Split time into list with elements, if this element has only 1, wite it down, else write both elements \n",
    "        date_scrape = x.td.text.split()\n",
    "        if len(date_scrape) == 1:\n",
    "            time = date_scrape[0]\n",
    "        else:\n",
    "            date = date_scrape[0]\n",
    "            time = date_scrape[1]\n",
    "        # Extract the ticker from the file name, get the string up to the 1st '_'  \n",
    "        ticker = file_name.split('_')[0]\n",
    "        # Append ticker, date, time and headline as a list to the 'parsed_news' list\n",
    "        parsed_news.append([ticker, date, time, headline])"
   ]
  },
  {
   "cell_type": "code",
   "execution_count": 119,
   "metadata": {},
   "outputs": [
    {
     "data": {
      "text/plain": [
       "['fb',\n",
       " 'Jan-04-19',\n",
       " '06:22PM',\n",
       " 'Facebook, Apple, Netflix, Amazon and Alphabet Power Friday Gains']"
      ]
     },
     "execution_count": 119,
     "metadata": {},
     "output_type": "execute_result"
    }
   ],
   "source": [
    "#Check the structure \n",
    "parsed_news[0]"
   ]
  },
  {
   "cell_type": "markdown",
   "metadata": {},
   "source": [
    "## 4. Use NLTK library\n",
    "NLTK consists of the most common algorithms such as tokenizing, part-of-speech tagging, stemming, sentiment analysis, topic segmentation, and named entity recognition. NLTK helps the computer to analysis, preprocess, and understand the written text."
   ]
  },
  {
   "cell_type": "markdown",
   "metadata": {},
   "source": [
    "<b> Importing VADER: </b>( Valence Aware Dictionary for Sentiment Reasoning) is a model used for text sentiment analysis that is sensitive to both polarity (positive/negative) and intensity (strength) of emotion."
   ]
  },
  {
   "cell_type": "code",
   "execution_count": 120,
   "metadata": {},
   "outputs": [
    {
     "name": "stderr",
     "output_type": "stream",
     "text": [
      "[nltk_data] Downloading package vader_lexicon to\n",
      "[nltk_data]     C:\\Users\\zas47\\AppData\\Roaming\\nltk_data...\n",
      "[nltk_data]   Package vader_lexicon is already up-to-date!\n"
     ]
    },
    {
     "data": {
      "text/plain": [
       "True"
      ]
     },
     "execution_count": 120,
     "metadata": {},
     "output_type": "execute_result"
    }
   ],
   "source": [
    "import nltk\n",
    "nltk.downloader.download('vader_lexicon')"
   ]
  },
  {
   "cell_type": "code",
   "execution_count": 121,
   "metadata": {},
   "outputs": [],
   "source": [
    "from nltk.sentiment.vader import SentimentIntensityAnalyzer\n",
    "\n",
    "# Set values to each word\n",
    "new_words = {\n",
    "    'crushes': 10,\n",
    "    'beats': 5,\n",
    "    'misses': -5,\n",
    "    'trouble': -10,\n",
    "    'falls': -100,\n",
    "}\n",
    "# Instantiate the sentiment intensity analyzer with the existing lexicon\n",
    "vader = SentimentIntensityAnalyzer()\n",
    "# Update the lexicon\n",
    "vader.lexicon.update(new_words)"
   ]
  },
  {
   "cell_type": "markdown",
   "metadata": {},
   "source": [
    "## 5. NLTK Crushes Sentiment Estimates\n",
    "<p>Now we are trying to predict sentiment from news headlines. Notice that a real sentiment analysis tool with chances of being profitable will require a very extensive and dedicated to finance news lexicon. Furthermore, it might also not be enough using a pre-packaged model like VADER.</p>"
   ]
  },
  {
   "cell_type": "code",
   "execution_count": 122,
   "metadata": {},
   "outputs": [
    {
     "data": {
      "text/html": [
       "<div>\n",
       "<style scoped>\n",
       "    .dataframe tbody tr th:only-of-type {\n",
       "        vertical-align: middle;\n",
       "    }\n",
       "\n",
       "    .dataframe tbody tr th {\n",
       "        vertical-align: top;\n",
       "    }\n",
       "\n",
       "    .dataframe thead th {\n",
       "        text-align: right;\n",
       "    }\n",
       "</style>\n",
       "<table border=\"1\" class=\"dataframe\">\n",
       "  <thead>\n",
       "    <tr style=\"text-align: right;\">\n",
       "      <th></th>\n",
       "      <th>ticker</th>\n",
       "      <th>date</th>\n",
       "      <th>time</th>\n",
       "      <th>headline</th>\n",
       "    </tr>\n",
       "  </thead>\n",
       "  <tbody>\n",
       "    <tr>\n",
       "      <td>0</td>\n",
       "      <td>fb</td>\n",
       "      <td>Jan-04-19</td>\n",
       "      <td>06:22PM</td>\n",
       "      <td>Facebook, Apple, Netflix, Amazon and Alphabet ...</td>\n",
       "    </tr>\n",
       "    <tr>\n",
       "      <td>1</td>\n",
       "      <td>fb</td>\n",
       "      <td>Jan-04-19</td>\n",
       "      <td>05:15PM</td>\n",
       "      <td>Earnings Reports for the Week of Jan. 7-11 (BB...</td>\n",
       "    </tr>\n",
       "    <tr>\n",
       "      <td>2</td>\n",
       "      <td>fb</td>\n",
       "      <td>Jan-04-19</td>\n",
       "      <td>04:55PM</td>\n",
       "      <td>COLUMN-Commentary: 2019 will be the year of mo...</td>\n",
       "    </tr>\n",
       "    <tr>\n",
       "      <td>3</td>\n",
       "      <td>fb</td>\n",
       "      <td>Jan-04-19</td>\n",
       "      <td>04:53PM</td>\n",
       "      <td>3 Tech Trends to Watch in 2019</td>\n",
       "    </tr>\n",
       "    <tr>\n",
       "      <td>4</td>\n",
       "      <td>fb</td>\n",
       "      <td>Jan-04-19</td>\n",
       "      <td>04:30PM</td>\n",
       "      <td>Will Denver's tech growth continue in 2019?</td>\n",
       "    </tr>\n",
       "  </tbody>\n",
       "</table>\n",
       "</div>"
      ],
      "text/plain": [
       "  ticker       date     time  \\\n",
       "0     fb  Jan-04-19  06:22PM   \n",
       "1     fb  Jan-04-19  05:15PM   \n",
       "2     fb  Jan-04-19  04:55PM   \n",
       "3     fb  Jan-04-19  04:53PM   \n",
       "4     fb  Jan-04-19  04:30PM   \n",
       "\n",
       "                                            headline  \n",
       "0  Facebook, Apple, Netflix, Amazon and Alphabet ...  \n",
       "1  Earnings Reports for the Week of Jan. 7-11 (BB...  \n",
       "2  COLUMN-Commentary: 2019 will be the year of mo...  \n",
       "3                     3 Tech Trends to Watch in 2019  \n",
       "4        Will Denver's tech growth continue in 2019?  "
      ]
     },
     "execution_count": 122,
     "metadata": {},
     "output_type": "execute_result"
    }
   ],
   "source": [
    "columns = ['ticker', 'date', 'time', 'headline']\n",
    "# Convert the list of (tables)lists that we just parsed into a DataFrame\n",
    "scored_news = pd.DataFrame(parsed_news,columns=columns)\n",
    "scored_news.head()"
   ]
  },
  {
   "cell_type": "markdown",
   "metadata": {},
   "source": [
    "According to the academic paper on VADER, the Valence score is measured on a scale from -4 to +4, where -4 stands for the most 'Negative' sentiment and +4 for the most 'Positive' sentiment"
   ]
  },
  {
   "cell_type": "code",
   "execution_count": 123,
   "metadata": {},
   "outputs": [],
   "source": [
    "# Get the polarity score for each headline\n",
    "scores = []\n",
    "for value in scored_news.headline.values:\n",
    "    scores.append(vader.polarity_scores(value))"
   ]
  },
  {
   "cell_type": "code",
   "execution_count": 124,
   "metadata": {},
   "outputs": [
    {
     "data": {
      "text/html": [
       "<div>\n",
       "<style scoped>\n",
       "    .dataframe tbody tr th:only-of-type {\n",
       "        vertical-align: middle;\n",
       "    }\n",
       "\n",
       "    .dataframe tbody tr th {\n",
       "        vertical-align: top;\n",
       "    }\n",
       "\n",
       "    .dataframe thead th {\n",
       "        text-align: right;\n",
       "    }\n",
       "</style>\n",
       "<table border=\"1\" class=\"dataframe\">\n",
       "  <thead>\n",
       "    <tr style=\"text-align: right;\">\n",
       "      <th></th>\n",
       "      <th>ticker</th>\n",
       "      <th>date</th>\n",
       "      <th>time</th>\n",
       "      <th>headline</th>\n",
       "      <th>neg</th>\n",
       "      <th>neu</th>\n",
       "      <th>pos</th>\n",
       "      <th>compound</th>\n",
       "    </tr>\n",
       "  </thead>\n",
       "  <tbody>\n",
       "    <tr>\n",
       "      <td>0</td>\n",
       "      <td>fb</td>\n",
       "      <td>2019-01-04</td>\n",
       "      <td>06:22PM</td>\n",
       "      <td>Facebook, Apple, Netflix, Amazon and Alphabet ...</td>\n",
       "      <td>0.0</td>\n",
       "      <td>0.631</td>\n",
       "      <td>0.369</td>\n",
       "      <td>0.4767</td>\n",
       "    </tr>\n",
       "    <tr>\n",
       "      <td>1</td>\n",
       "      <td>fb</td>\n",
       "      <td>2019-01-04</td>\n",
       "      <td>05:15PM</td>\n",
       "      <td>Earnings Reports for the Week of Jan. 7-11 (BB...</td>\n",
       "      <td>0.0</td>\n",
       "      <td>1.000</td>\n",
       "      <td>0.000</td>\n",
       "      <td>0.0000</td>\n",
       "    </tr>\n",
       "    <tr>\n",
       "      <td>2</td>\n",
       "      <td>fb</td>\n",
       "      <td>2019-01-04</td>\n",
       "      <td>04:55PM</td>\n",
       "      <td>COLUMN-Commentary: 2019 will be the year of mo...</td>\n",
       "      <td>0.0</td>\n",
       "      <td>1.000</td>\n",
       "      <td>0.000</td>\n",
       "      <td>0.0000</td>\n",
       "    </tr>\n",
       "    <tr>\n",
       "      <td>3</td>\n",
       "      <td>fb</td>\n",
       "      <td>2019-01-04</td>\n",
       "      <td>04:53PM</td>\n",
       "      <td>3 Tech Trends to Watch in 2019</td>\n",
       "      <td>0.0</td>\n",
       "      <td>1.000</td>\n",
       "      <td>0.000</td>\n",
       "      <td>0.0000</td>\n",
       "    </tr>\n",
       "    <tr>\n",
       "      <td>4</td>\n",
       "      <td>fb</td>\n",
       "      <td>2019-01-04</td>\n",
       "      <td>04:30PM</td>\n",
       "      <td>Will Denver's tech growth continue in 2019?</td>\n",
       "      <td>0.0</td>\n",
       "      <td>0.698</td>\n",
       "      <td>0.302</td>\n",
       "      <td>0.3818</td>\n",
       "    </tr>\n",
       "  </tbody>\n",
       "</table>\n",
       "</div>"
      ],
      "text/plain": [
       "  ticker        date     time  \\\n",
       "0     fb  2019-01-04  06:22PM   \n",
       "1     fb  2019-01-04  05:15PM   \n",
       "2     fb  2019-01-04  04:55PM   \n",
       "3     fb  2019-01-04  04:53PM   \n",
       "4     fb  2019-01-04  04:30PM   \n",
       "\n",
       "                                            headline  neg    neu    pos  \\\n",
       "0  Facebook, Apple, Netflix, Amazon and Alphabet ...  0.0  0.631  0.369   \n",
       "1  Earnings Reports for the Week of Jan. 7-11 (BB...  0.0  1.000  0.000   \n",
       "2  COLUMN-Commentary: 2019 will be the year of mo...  0.0  1.000  0.000   \n",
       "3                     3 Tech Trends to Watch in 2019  0.0  1.000  0.000   \n",
       "4        Will Denver's tech growth continue in 2019?  0.0  0.698  0.302   \n",
       "\n",
       "   compound  \n",
       "0    0.4767  \n",
       "1    0.0000  \n",
       "2    0.0000  \n",
       "3    0.0000  \n",
       "4    0.3818  "
      ]
     },
     "execution_count": 124,
     "metadata": {},
     "output_type": "execute_result"
    }
   ],
   "source": [
    "# Convert the list of dicts into a DataFrame\n",
    "scores_df = pd.DataFrame(scores)\n",
    "# Join the DataFrames\n",
    "scored_news = pd.concat([scored_news,scores_df],axis=1)\n",
    "# Convert the date column from string to datetime\n",
    "scored_news['date'] = pd.to_datetime(scored_news.date).dt.date\n",
    "scored_news.head()"
   ]
  },
  {
   "cell_type": "markdown",
   "metadata": {},
   "source": [
    "## 6. Plot all the sentiment in subplots\n",
    "<p>Now Let's try plotting results"
   ]
  },
  {
   "cell_type": "markdown",
   "metadata": {},
   "source": [
    "- Check cross section definition <a href=\"https://www.w3resource.com/pandas/series/series-xs.php#:~:text=The%20xs()%20function%20is,particular%20level%20of%20a%20MultiIndex.&text=Label%20contained%20in%20the%20index%2C%20or%20partially%20in%20a%20MultiIndex.&text=Axis%20to%20retrieve%20cross-section%20on.\" > here </a>"
   ]
  },
  {
   "cell_type": "code",
   "execution_count": 125,
   "metadata": {},
   "outputs": [
    {
     "data": {
      "image/png": "[encoded data removed]",
      "text/plain": [
       "<Figure size 432x288 with 1 Axes>"
      ]
     },
     "metadata": {},
     "output_type": "display_data"
    }
   ],
   "source": [
    "import matplotlib.pyplot as plt\n",
    "%matplotlib inline\n",
    "plt.style.use('ggplot')\n",
    "# Group by date and ticker columns from scored_news and calculate the mean\n",
    "mean_c = scored_news.groupby(['date','ticker']).mean()\n",
    "#Reshaping dataframe by unstacking\n",
    "mean_c = mean_c.unstack(level=1)\n",
    "# Get the cross-section of compound \n",
    "mean_c = mean_c.xs('compound', axis=1)\n",
    "mean_c.plot.bar();\n",
    "plt.xlabel(\"Date\");\n",
    "plt.ylabel(\"Polarity Scores\");"
   ]
  },
  {
   "cell_type": "markdown",
   "metadata": {},
   "source": [
    "## 7. Cleaning Data\n",
    "<p>Let's clean up our data"
   ]
  },
  {
   "cell_type": "code",
   "execution_count": 126,
   "metadata": {},
   "outputs": [
    {
     "data": {
      "text/plain": [
       "'Before we had 500 headlines, now we have 476'"
      ]
     },
     "execution_count": 126,
     "metadata": {},
     "output_type": "execute_result"
    }
   ],
   "source": [
    "num_news_before = len(scored_news['headline'])\n",
    "scored_news_clean = scored_news.drop_duplicates(['ticker','headline'])\n",
    "num_news_after = len(scored_news_clean['headline'])\n",
    "f\"Before we had {num_news_before} headlines, now we have {num_news_after}\""
   ]
  },
  {
   "cell_type": "markdown",
   "metadata": {},
   "source": [
    "## 8. Sentiment on one single trading day and stock\n",
    "Let's sentiment on 3 of Jan, 2019"
   ]
  },
  {
   "cell_type": "code",
   "execution_count": 127,
   "metadata": {},
   "outputs": [
    {
     "data": {
      "text/html": [
       "<div>\n",
       "<style scoped>\n",
       "    .dataframe tbody tr th:only-of-type {\n",
       "        vertical-align: middle;\n",
       "    }\n",
       "\n",
       "    .dataframe tbody tr th {\n",
       "        vertical-align: top;\n",
       "    }\n",
       "\n",
       "    .dataframe thead th {\n",
       "        text-align: right;\n",
       "    }\n",
       "</style>\n",
       "<table border=\"1\" class=\"dataframe\">\n",
       "  <thead>\n",
       "    <tr style=\"text-align: right;\">\n",
       "      <th></th>\n",
       "      <th>ticker</th>\n",
       "      <th>date</th>\n",
       "      <th>time</th>\n",
       "      <th>headline</th>\n",
       "      <th>neg</th>\n",
       "      <th>neu</th>\n",
       "      <th>pos</th>\n",
       "      <th>compound</th>\n",
       "    </tr>\n",
       "  </thead>\n",
       "  <tbody>\n",
       "    <tr>\n",
       "      <td>0</td>\n",
       "      <td>fb</td>\n",
       "      <td>2019-01-04</td>\n",
       "      <td>06:22PM</td>\n",
       "      <td>Facebook, Apple, Netflix, Amazon and Alphabet ...</td>\n",
       "      <td>0.0</td>\n",
       "      <td>0.631</td>\n",
       "      <td>0.369</td>\n",
       "      <td>0.4767</td>\n",
       "    </tr>\n",
       "    <tr>\n",
       "      <td>1</td>\n",
       "      <td>fb</td>\n",
       "      <td>2019-01-04</td>\n",
       "      <td>05:15PM</td>\n",
       "      <td>Earnings Reports for the Week of Jan. 7-11 (BB...</td>\n",
       "      <td>0.0</td>\n",
       "      <td>1.000</td>\n",
       "      <td>0.000</td>\n",
       "      <td>0.0000</td>\n",
       "    </tr>\n",
       "    <tr>\n",
       "      <td>2</td>\n",
       "      <td>fb</td>\n",
       "      <td>2019-01-04</td>\n",
       "      <td>04:55PM</td>\n",
       "      <td>COLUMN-Commentary: 2019 will be the year of mo...</td>\n",
       "      <td>0.0</td>\n",
       "      <td>1.000</td>\n",
       "      <td>0.000</td>\n",
       "      <td>0.0000</td>\n",
       "    </tr>\n",
       "    <tr>\n",
       "      <td>3</td>\n",
       "      <td>fb</td>\n",
       "      <td>2019-01-04</td>\n",
       "      <td>04:53PM</td>\n",
       "      <td>3 Tech Trends to Watch in 2019</td>\n",
       "      <td>0.0</td>\n",
       "      <td>1.000</td>\n",
       "      <td>0.000</td>\n",
       "      <td>0.0000</td>\n",
       "    </tr>\n",
       "    <tr>\n",
       "      <td>4</td>\n",
       "      <td>fb</td>\n",
       "      <td>2019-01-04</td>\n",
       "      <td>04:30PM</td>\n",
       "      <td>Will Denver's tech growth continue in 2019?</td>\n",
       "      <td>0.0</td>\n",
       "      <td>0.698</td>\n",
       "      <td>0.302</td>\n",
       "      <td>0.3818</td>\n",
       "    </tr>\n",
       "  </tbody>\n",
       "</table>\n",
       "</div>"
      ],
      "text/plain": [
       "  ticker        date     time  \\\n",
       "0     fb  2019-01-04  06:22PM   \n",
       "1     fb  2019-01-04  05:15PM   \n",
       "2     fb  2019-01-04  04:55PM   \n",
       "3     fb  2019-01-04  04:53PM   \n",
       "4     fb  2019-01-04  04:30PM   \n",
       "\n",
       "                                            headline  neg    neu    pos  \\\n",
       "0  Facebook, Apple, Netflix, Amazon and Alphabet ...  0.0  0.631  0.369   \n",
       "1  Earnings Reports for the Week of Jan. 7-11 (BB...  0.0  1.000  0.000   \n",
       "2  COLUMN-Commentary: 2019 will be the year of mo...  0.0  1.000  0.000   \n",
       "3                     3 Tech Trends to Watch in 2019  0.0  1.000  0.000   \n",
       "4        Will Denver's tech growth continue in 2019?  0.0  0.698  0.302   \n",
       "\n",
       "   compound  \n",
       "0    0.4767  \n",
       "1    0.0000  \n",
       "2    0.0000  \n",
       "3    0.0000  \n",
       "4    0.3818  "
      ]
     },
     "execution_count": 127,
     "metadata": {},
     "output_type": "execute_result"
    }
   ],
   "source": [
    "scored_news_clean.head()"
   ]
  },
  {
   "cell_type": "code",
   "execution_count": 128,
   "metadata": {},
   "outputs": [],
   "source": [
    "single_day = scored_news_clean.groupby(['ticker', 'date'])"
   ]
  },
  {
   "cell_type": "code",
   "execution_count": 129,
   "metadata": {},
   "outputs": [
    {
     "data": {
      "text/html": [
       "<div>\n",
       "<style scoped>\n",
       "    .dataframe tbody tr th:only-of-type {\n",
       "        vertical-align: middle;\n",
       "    }\n",
       "\n",
       "    .dataframe tbody tr th {\n",
       "        vertical-align: top;\n",
       "    }\n",
       "\n",
       "    .dataframe thead th {\n",
       "        text-align: right;\n",
       "    }\n",
       "</style>\n",
       "<table border=\"1\" class=\"dataframe\">\n",
       "  <thead>\n",
       "    <tr style=\"text-align: right;\">\n",
       "      <th></th>\n",
       "      <th>ticker</th>\n",
       "      <th>date</th>\n",
       "      <th>time</th>\n",
       "      <th>headline</th>\n",
       "      <th>neg</th>\n",
       "      <th>neu</th>\n",
       "      <th>pos</th>\n",
       "      <th>compound</th>\n",
       "    </tr>\n",
       "  </thead>\n",
       "  <tbody>\n",
       "    <tr>\n",
       "      <td>0</td>\n",
       "      <td>fb</td>\n",
       "      <td>2019-01-04</td>\n",
       "      <td>06:22PM</td>\n",
       "      <td>Facebook, Apple, Netflix, Amazon and Alphabet ...</td>\n",
       "      <td>0.000</td>\n",
       "      <td>0.631</td>\n",
       "      <td>0.369</td>\n",
       "      <td>0.4767</td>\n",
       "    </tr>\n",
       "    <tr>\n",
       "      <td>1</td>\n",
       "      <td>fb</td>\n",
       "      <td>2019-01-04</td>\n",
       "      <td>05:15PM</td>\n",
       "      <td>Earnings Reports for the Week of Jan. 7-11 (BB...</td>\n",
       "      <td>0.000</td>\n",
       "      <td>1.000</td>\n",
       "      <td>0.000</td>\n",
       "      <td>0.0000</td>\n",
       "    </tr>\n",
       "    <tr>\n",
       "      <td>2</td>\n",
       "      <td>fb</td>\n",
       "      <td>2019-01-04</td>\n",
       "      <td>04:55PM</td>\n",
       "      <td>COLUMN-Commentary: 2019 will be the year of mo...</td>\n",
       "      <td>0.000</td>\n",
       "      <td>1.000</td>\n",
       "      <td>0.000</td>\n",
       "      <td>0.0000</td>\n",
       "    </tr>\n",
       "    <tr>\n",
       "      <td>3</td>\n",
       "      <td>fb</td>\n",
       "      <td>2019-01-04</td>\n",
       "      <td>04:53PM</td>\n",
       "      <td>3 Tech Trends to Watch in 2019</td>\n",
       "      <td>0.000</td>\n",
       "      <td>1.000</td>\n",
       "      <td>0.000</td>\n",
       "      <td>0.0000</td>\n",
       "    </tr>\n",
       "    <tr>\n",
       "      <td>4</td>\n",
       "      <td>fb</td>\n",
       "      <td>2019-01-04</td>\n",
       "      <td>04:30PM</td>\n",
       "      <td>Will Denver's tech growth continue in 2019?</td>\n",
       "      <td>0.000</td>\n",
       "      <td>0.698</td>\n",
       "      <td>0.302</td>\n",
       "      <td>0.3818</td>\n",
       "    </tr>\n",
       "    <tr>\n",
       "      <td>...</td>\n",
       "      <td>...</td>\n",
       "      <td>...</td>\n",
       "      <td>...</td>\n",
       "      <td>...</td>\n",
       "      <td>...</td>\n",
       "      <td>...</td>\n",
       "      <td>...</td>\n",
       "      <td>...</td>\n",
       "    </tr>\n",
       "    <tr>\n",
       "      <td>479</td>\n",
       "      <td>tsla</td>\n",
       "      <td>2018-11-16</td>\n",
       "      <td>06:50PM</td>\n",
       "      <td>Cramer's lightning round: Don't buy shares of ...</td>\n",
       "      <td>0.146</td>\n",
       "      <td>0.854</td>\n",
       "      <td>0.000</td>\n",
       "      <td>-0.2235</td>\n",
       "    </tr>\n",
       "    <tr>\n",
       "      <td>480</td>\n",
       "      <td>tsla</td>\n",
       "      <td>2018-11-16</td>\n",
       "      <td>04:27PM</td>\n",
       "      <td>Tesla has opened up Model 3 orders to customer...</td>\n",
       "      <td>0.000</td>\n",
       "      <td>1.000</td>\n",
       "      <td>0.000</td>\n",
       "      <td>0.0000</td>\n",
       "    </tr>\n",
       "    <tr>\n",
       "      <td>481</td>\n",
       "      <td>tsla</td>\n",
       "      <td>2018-11-16</td>\n",
       "      <td>04:20PM</td>\n",
       "      <td>David Einhorn's Top 4 Sells in 3rd Quarter</td>\n",
       "      <td>0.000</td>\n",
       "      <td>0.769</td>\n",
       "      <td>0.231</td>\n",
       "      <td>0.2023</td>\n",
       "    </tr>\n",
       "    <tr>\n",
       "      <td>482</td>\n",
       "      <td>tsla</td>\n",
       "      <td>2018-11-16</td>\n",
       "      <td>02:46PM</td>\n",
       "      <td>Tesla Ramps Up Its International Expansion for...</td>\n",
       "      <td>0.000</td>\n",
       "      <td>1.000</td>\n",
       "      <td>0.000</td>\n",
       "      <td>0.0000</td>\n",
       "    </tr>\n",
       "    <tr>\n",
       "      <td>483</td>\n",
       "      <td>tsla</td>\n",
       "      <td>2018-11-16</td>\n",
       "      <td>02:12PM</td>\n",
       "      <td>7 Autonomous Vehicle Stocks to Consider Now</td>\n",
       "      <td>0.000</td>\n",
       "      <td>1.000</td>\n",
       "      <td>0.000</td>\n",
       "      <td>0.0000</td>\n",
       "    </tr>\n",
       "  </tbody>\n",
       "</table>\n",
       "<p>135 rows × 8 columns</p>\n",
       "</div>"
      ],
      "text/plain": [
       "    ticker        date     time  \\\n",
       "0       fb  2019-01-04  06:22PM   \n",
       "1       fb  2019-01-04  05:15PM   \n",
       "2       fb  2019-01-04  04:55PM   \n",
       "3       fb  2019-01-04  04:53PM   \n",
       "4       fb  2019-01-04  04:30PM   \n",
       "..     ...         ...      ...   \n",
       "479   tsla  2018-11-16  06:50PM   \n",
       "480   tsla  2018-11-16  04:27PM   \n",
       "481   tsla  2018-11-16  04:20PM   \n",
       "482   tsla  2018-11-16  02:46PM   \n",
       "483   tsla  2018-11-16  02:12PM   \n",
       "\n",
       "                                              headline    neg    neu    pos  \\\n",
       "0    Facebook, Apple, Netflix, Amazon and Alphabet ...  0.000  0.631  0.369   \n",
       "1    Earnings Reports for the Week of Jan. 7-11 (BB...  0.000  1.000  0.000   \n",
       "2    COLUMN-Commentary: 2019 will be the year of mo...  0.000  1.000  0.000   \n",
       "3                       3 Tech Trends to Watch in 2019  0.000  1.000  0.000   \n",
       "4          Will Denver's tech growth continue in 2019?  0.000  0.698  0.302   \n",
       "..                                                 ...    ...    ...    ...   \n",
       "479  Cramer's lightning round: Don't buy shares of ...  0.146  0.854  0.000   \n",
       "480  Tesla has opened up Model 3 orders to customer...  0.000  1.000  0.000   \n",
       "481         David Einhorn's Top 4 Sells in 3rd Quarter  0.000  0.769  0.231   \n",
       "482  Tesla Ramps Up Its International Expansion for...  0.000  1.000  0.000   \n",
       "483        7 Autonomous Vehicle Stocks to Consider Now  0.000  1.000  0.000   \n",
       "\n",
       "     compound  \n",
       "0      0.4767  \n",
       "1      0.0000  \n",
       "2      0.0000  \n",
       "3      0.0000  \n",
       "4      0.3818  \n",
       "..        ...  \n",
       "479   -0.2235  \n",
       "480    0.0000  \n",
       "481    0.2023  \n",
       "482    0.0000  \n",
       "483    0.0000  \n",
       "\n",
       "[135 rows x 8 columns]"
      ]
     },
     "execution_count": 129,
     "metadata": {},
     "output_type": "execute_result"
    }
   ],
   "source": [
    "single_day.head()"
   ]
  },
  {
   "cell_type": "code",
   "execution_count": 130,
   "metadata": {},
   "outputs": [],
   "source": [
    "single_day = scored_news_clean.set_index(['ticker', 'date'])\n",
    "# gather facebook row and select 3rd Jan,2019\n",
    "single_day = single_day.loc['fb']\n",
    "single_day = single_day.loc['2019-01-03']\n",
    "single_day['time'] = pd.to_datetime(single_day['time'])\n",
    "single_day['time'] = single_day.time.dt.time\n",
    "# Sort it\n",
    "single_day= single_day.set_index('time')"
   ]
  },
  {
   "cell_type": "markdown",
   "metadata": {},
   "source": [
    "## 9. Visualize the single day\n",
    "<p>We will make a plot to visualize the positive, negative and neutral scores for a single day of trading and a single stock. This is just one of the many ways to visualize this dataset.</p>"
   ]
  },
  {
   "cell_type": "code",
   "execution_count": 131,
   "metadata": {},
   "outputs": [
    {
     "data": {
      "image/png": "[encoded data removed]",
      "text/plain": [
       "<Figure size 720x432 with 1 Axes>"
      ]
     },
     "metadata": {},
     "output_type": "display_data"
    }
   ],
   "source": [
    "TITLE = \"Positive, negative and neutral sentiment for FB on 2019-01-03\"\n",
    "COLORS = [\"red\", \"orange\", \"green\"]\n",
    "# Drop the columns that aren't useful for the plot\n",
    "plot_day = single_day.drop(['headline', 'compound'], axis=1)\n",
    "# Change the column names to 'negative', 'positive', and 'neutral'\n",
    "plot_day.columns = ['negative', 'positive', 'neutral']\n",
    "# Plot a stacked bar chart\n",
    "plot_day.plot.bar(stacked = True, \n",
    "                  figsize=(10, 6), \n",
    "                  title = TITLE, \n",
    "                  color = COLORS).legend(bbox_to_anchor=(1.2, 0.5))\n",
    "plt.ylabel(\"scores\");"
   ]
  }
 ],
 "metadata": {
  "kernelspec": {
   "display_name": "Python 3",
   "language": "python",
   "name": "python3"
  },
  "language_info": {
   "codemirror_mode": {
    "name": "ipython",
    "version": 3
   },
   "file_extension": ".py",
   "mimetype": "text/x-python",
   "name": "python",
   "nbconvert_exporter": "python",
   "pygments_lexer": "ipython3",
   "version": "3.7.4"
  }
 },
 "nbformat": 4,
 "nbformat_minor": 2
}
